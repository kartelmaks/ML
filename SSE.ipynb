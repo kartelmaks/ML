{
  "nbformat": 4,
  "nbformat_minor": 0,
  "metadata": {
    "kernelspec": {
      "display_name": "Python 3",
      "language": "python",
      "name": "python3"
    },
    "language_info": {
      "codemirror_mode": {
        "name": "ipython",
        "version": 3
      },
      "file_extension": ".py",
      "mimetype": "text/x-python",
      "name": "python",
      "nbconvert_exporter": "python",
      "pygments_lexer": "ipython3",
      "version": "3.8.3"
    },
    "colab": {
      "name": "SSE.ipynb",
      "provenance": [],
      "collapsed_sections": [
        "khqf_sm-G4uN",
        "C-PhUrm5zBcj"
      ],
      "include_colab_link": true
    }
  },
  "cells": [
    {
      "cell_type": "markdown",
      "metadata": {
        "id": "view-in-github",
        "colab_type": "text"
      },
      "source": [
        "<a href=\"https://colab.research.google.com/github/kartelmaks/ML/blob/master/SSE.ipynb\" target=\"_parent\"><img src=\"https://colab.research.google.com/assets/colab-badge.svg\" alt=\"Open In Colab\"/></a>"
      ]
    },
    {
      "cell_type": "markdown",
      "metadata": {
        "id": "khqf_sm-G4uN"
      },
      "source": [
        "##import\r\n"
      ]
    },
    {
      "cell_type": "code",
      "metadata": {
        "id": "eJlGA5HnXN2c"
      },
      "source": [
        "import numpy as np\n",
        "import pandas as pd\n",
        "import scipy as sp\n",
        "import matplotlib.pyplot as plt\n",
        "plt.style.use('ggplot')\n",
        "import plotly.express as px\n",
        "from scipy import sparse\n",
        "from scipy.sparse import csr_matrix, lil_matrix, diags\n",
        "from scipy.sparse.linalg import spsolve"
      ],
      "execution_count": 1,
      "outputs": []
    },
    {
      "cell_type": "code",
      "metadata": {
        "id": "dxN9rrPGY6Kt"
      },
      "source": [
        "#from google.colab import files\r\n",
        "#uploaded = files.upload()\r\n"
      ],
      "execution_count": 2,
      "outputs": []
    },
    {
      "cell_type": "code",
      "metadata": {
        "id": "ObOqEPuxXN2f"
      },
      "source": [
        "#X = pd.read_csv('data1.csv', header = None).transpose()"
      ],
      "execution_count": 3,
      "outputs": []
    },
    {
      "cell_type": "markdown",
      "metadata": {
        "id": "C-PhUrm5zBcj"
      },
      "source": [
        "##Герерація спетру"
      ]
    },
    {
      "cell_type": "code",
      "metadata": {
        "id": "aKmyuta_bbC7"
      },
      "source": [
        "N = 1024\r\n",
        "r_max = 100\r\n",
        "\r\n",
        "M = [0, 10, 20]\r\n",
        "sig_p = [5, 10, 5, 20, 15]\r\n",
        "I = [0.9, 1, 0.8, 0.6, 0.75]\r\n",
        "p = [100, 250, 500, 750, 900] \r\n"
      ],
      "execution_count": 4,
      "outputs": []
    },
    {
      "cell_type": "code",
      "metadata": {
        "id": "I6noF7FDbbKZ"
      },
      "source": [
        "def get_spectr(m):\r\n",
        "  f = list()\r\n",
        "  for k in range(N):\r\n",
        "    f.append(1500*np.exp(-k/300) + 200)\r\n",
        "  f = np.array(f)\r\n",
        "  f = f*0.1\r\n",
        "\r\n",
        "  R_sum = np.zeros(N)\r\n",
        "  for i in range(5):\r\n",
        "    r_sum = list()\r\n",
        "    for k in range(N):\r\n",
        "      r_sum.append(I[i]*np.exp((-(k+m-p[i])**2)/(2*sig_p[i]**2)))\r\n",
        "    R_sum = [x + y for x, y in zip(R_sum, r_sum)]\r\n",
        "  R_sum = np.array(R_sum)\r\n",
        "  R_sum = r_max*R_sum\r\n",
        "  R_F = [x + y for x, y in zip(R_sum, f)]\r\n",
        "  return R_F"
      ],
      "execution_count": 5,
      "outputs": []
    },
    {
      "cell_type": "code",
      "metadata": {
        "id": "F1RvlwahzA3M",
        "colab": {
          "base_uri": "https://localhost:8080/",
          "height": 0
        },
        "outputId": "6c94c8f0-a1f6-4b9d-fcd7-74787a0a9cfe"
      },
      "source": [
        "R = list()\r\n",
        "for i in range(len(M)):\r\n",
        "  R.append(get_spectr(M[i]))\r\n",
        "R = np.array(R)\r\n",
        "print(R.shape )\r\n",
        "\r\n",
        "X_ = pd.DataFrame(R)\r\n",
        "for i in range(len(X_)):\r\n",
        "    Y_axis = np.array(X_.iloc[i,:], dtype = np.float32)\r\n",
        "    X_axis = np.array(range(N))\r\n",
        "    plt.plot(X_axis, Y_axis)\r\n",
        "plt.show()\r\n",
        "\r\n"
      ],
      "execution_count": 6,
      "outputs": [
        {
          "output_type": "stream",
          "text": [
            "(3, 1024)\n"
          ],
          "name": "stdout"
        },
        {
          "output_type": "display_data",
          "data": {
            "image/png": "[encoded data removed]",
            "text/plain": [
              "<Figure size 432x288 with 1 Axes>"
            ]
          },
          "metadata": {
            "tags": [],
            "needs_background": "light"
          }
        }
      ]
    },
    {
      "cell_type": "code",
      "metadata": {
        "id": "nmaHgj38XN2g",
        "colab": {
          "base_uri": "https://localhost:8080/",
          "height": 0
        },
        "outputId": "f4acf432-14d8-4f6b-cf58-9cd95fc18ced"
      },
      "source": [
        "'''l1 = 400\n",
        "l2 = 1340\n",
        "X = X.iloc[:,l1:l2]\n",
        "X.columns = range(l2-l1)\n",
        "m, k = X.shape\n",
        "print(m, k)\n",
        "px.line(x = range(940), y = X.iloc[0])\n",
        "shift = [0, 10, 20]'''"
      ],
      "execution_count": 7,
      "outputs": [
        {
          "output_type": "execute_result",
          "data": {
            "application/vnd.google.colaboratory.intrinsic+json": {
              "type": "string"
            },
            "text/plain": [
              "'l1 = 400\\nl2 = 1340\\nX = X.iloc[:,l1:l2]\\nX.columns = range(l2-l1)\\nm, k = X.shape\\nprint(m, k)\\npx.line(x = range(940), y = X.iloc[0])\\nshift = [0, 10, 20]'"
            ]
          },
          "metadata": {
            "tags": []
          },
          "execution_count": 7
        }
      ]
    },
    {
      "cell_type": "markdown",
      "metadata": {
        "id": "hi7hKIiLXN2q"
      },
      "source": [
        "# Матричний метод"
      ]
    },
    {
      "cell_type": "code",
      "metadata": {
        "id": "mu2ComPxXN2g"
      },
      "source": [
        "m, N = R.shape\n",
        "shift = M"
      ],
      "execution_count": 8,
      "outputs": []
    },
    {
      "cell_type": "markdown",
      "metadata": {
        "id": "1PTi911PSW0S"
      },
      "source": [
        "початкові наближення раману та флюрика"
      ]
    },
    {
      "cell_type": "code",
      "metadata": {
        "id": "S1X9jguHHCQn"
      },
      "source": [
        "R_ = pd.DataFrame(R)\r\n",
        "R_mean = R_.mean()"
      ],
      "execution_count": 9,
      "outputs": []
    },
    {
      "cell_type": "code",
      "metadata": {
        "id": "brnjlvyAMg9G"
      },
      "source": [
        "R_m_s = np.zeros(N)\r\n",
        "for i in range(N):\r\n",
        "  R_m_s[i] = ((R_[i] - R_mean[i])**2).mean()\r\n",
        "S_r = np.sqrt(R_m_s)"
      ],
      "execution_count": 10,
      "outputs": []
    },
    {
      "cell_type": "code",
      "metadata": {
        "colab": {
          "base_uri": "https://localhost:8080/",
          "height": 282
        },
        "id": "UsgyZOCQMg_o",
        "outputId": "302a0555-bea6-49aa-8065-c8c21a703b89"
      },
      "source": [
        "plt.plot(S_r)\r\n",
        "plt.plot(R[0])\r\n"
      ],
      "execution_count": 11,
      "outputs": [
        {
          "output_type": "execute_result",
          "data": {
            "text/plain": [
              "[<matplotlib.lines.Line2D at 0x7f1958830410>]"
            ]
          },
          "metadata": {
            "tags": []
          },
          "execution_count": 11
        },
        {
          "output_type": "display_data",
          "data": {
            "image/png": "[encoded data removed]",
            "text/plain": [
              "<Figure size 432x288 with 1 Axes>"
            ]
          },
          "metadata": {
            "tags": [],
            "needs_background": "light"
          }
        }
      ]
    },
    {
      "cell_type": "code",
      "metadata": {
        "id": "01wiS1FI1_WI"
      },
      "source": [
        "def baseline_als(y, lam, p, niter=10):\r\n",
        "  L = len(y)\r\n",
        "  D = sparse.csc_matrix(np.diff(np.eye(L), 2))\r\n",
        "  w = np.ones(L)\r\n",
        "  for i in range(niter):\r\n",
        "    W = sparse.spdiags(w, 0, L, L)\r\n",
        "    Z = W + lam * D.dot(D.transpose())\r\n",
        "    z = spsolve(Z, w*y)\r\n",
        "    w = p * (y > z) + (1-p) * (y < z)\r\n",
        "  return z"
      ],
      "execution_count": 12,
      "outputs": []
    },
    {
      "cell_type": "code",
      "metadata": {
        "id": "ZJTPhnkbPqEe",
        "colab": {
          "base_uri": "https://localhost:8080/",
          "height": 282
        },
        "outputId": "6465da27-7b9d-4cce-ddee-bf81e80efb84"
      },
      "source": [
        "S_f = baseline_als(R_mean, 100000000, 0.05)\r\n",
        "\r\n",
        "plt.plot(S_f)"
      ],
      "execution_count": 13,
      "outputs": [
        {
          "output_type": "execute_result",
          "data": {
            "text/plain": [
              "[<matplotlib.lines.Line2D at 0x7f19587a6c90>]"
            ]
          },
          "metadata": {
            "tags": []
          },
          "execution_count": 13
        },
        {
          "output_type": "display_data",
          "data": {
            "image/png": "[encoded data removed]",
            "text/plain": [
              "<Figure size 432x288 with 1 Axes>"
            ]
          },
          "metadata": {
            "tags": [],
            "needs_background": "light"
          }
        }
      ]
    },
    {
      "cell_type": "code",
      "metadata": {
        "id": "hmLW54xzKdDV"
      },
      "source": [
        "I_arr = list()\r\n",
        "E_arr = list()\r\n",
        "E = diags([1], [0], shape=(N,N), dtype=float)\r\n",
        "\r\n",
        "for r in range(m):\r\n",
        "    I = diags([1], [-shift[r]], shape=(N,N), dtype=float)\r\n",
        "    I_arr.append(I)\r\n",
        "    \r\n",
        "for r in range(m):\r\n",
        "    E_arr.append(E)\r\n",
        "\r\n",
        "H = [I_arr, E_arr]\r\n",
        "H = np.array(H).T"
      ],
      "execution_count": 14,
      "outputs": []
    },
    {
      "cell_type": "code",
      "metadata": {
        "scrolled": false,
        "id": "ZJksj6QtXN2q"
      },
      "source": [
        "def multiply_sparse(A, B):\n",
        "  l, m = A.shape\n",
        "  n = B.shape\n",
        "  #print(l, m, n)\n",
        "  x = pd.DataFrame()\n",
        "\n",
        "  for i in range(l):    \n",
        "    s = np.zeros(N)\n",
        "    for r in range(m):\n",
        "      w = (A[i][r] * B[r].T).toarray()\n",
        "      s = [x + y for x, y in zip(s, w)]\n",
        "            \n",
        "    s = pd.DataFrame(s).transpose()\n",
        "    x = x.append(s)\n",
        "  x = np.array(x)\n",
        "  return x\n",
        "\n",
        "     "
      ],
      "execution_count": 15,
      "outputs": []
    },
    {
      "cell_type": "code",
      "metadata": {
        "colab": {
          "base_uri": "https://localhost:8080/",
          "height": 282
        },
        "id": "9e4VA0kwgGLP",
        "outputId": "d072c1f0-a3fe-4aaf-8625-d1b1e4f094fd"
      },
      "source": [
        "S_f_ = lil_matrix(S_f)\r\n",
        "S_r_ = lil_matrix(S_r)\r\n",
        "S = np.array([S_r_, S_f_])\r\n",
        "for i in range(10):\r\n",
        "  hs = multiply_sparse(H, S)\r\n",
        "  r_hs = (R/hs)\r\n",
        "  #print(r_hs[0])\r\n",
        "  r_hs = np.array([lil_matrix(r_hs[0]), lil_matrix(r_hs[1]), lil_matrix(r_hs[2])])\r\n",
        "  ss = multiply_sparse(H.T, r_hs)\r\n",
        "  S = np.array((lil_matrix(S[0].toarray()*ss[0]), lil_matrix(S[1].toarray()*ss[1])))\r\n",
        "plt.plot(S[0].toarray().T)\r\n",
        "plt.plot(S[1].toarray().T)\r\n",
        "plt.plot(R[0])\r\n"
      ],
      "execution_count": 19,
      "outputs": [
        {
          "output_type": "execute_result",
          "data": {
            "text/plain": [
              "[<matplotlib.lines.Line2D at 0x7f1953f94650>]"
            ]
          },
          "metadata": {
            "tags": []
          },
          "execution_count": 19
        },
        {
          "output_type": "display_data",
          "data": {
            "image/png": "[encoded data removed]",
            "text/plain": [
              "<Figure size 432x288 with 1 Axes>"
            ]
          },
          "metadata": {
            "tags": [],
            "needs_background": "light"
          }
        }
      ]
    },
    {
      "cell_type": "code",
      "metadata": {
        "id": "PtwUM2fp3u5B",
        "colab": {
          "base_uri": "https://localhost:8080/",
          "height": 284
        },
        "outputId": "2b19e2de-ed15-4cab-8211-f9f1ab702d12"
      },
      "source": [
        "plt.plot(R[0])"
      ],
      "execution_count": 20,
      "outputs": [
        {
          "output_type": "execute_result",
          "data": {
            "text/plain": [
              "[<matplotlib.lines.Line2D at 0x7f1953f4dbd0>]"
            ]
          },
          "metadata": {
            "tags": []
          },
          "execution_count": 20
        },
        {
          "output_type": "display_data",
          "data": {
            "image/png": "[encoded data removed]",
            "text/plain": [
              "<Figure size 432x288 with 1 Axes>"
            ]
          },
          "metadata": {
            "tags": [],
            "needs_background": "light"
          }
        }
      ]
    },
    {
      "cell_type": "code",
      "metadata": {
        "id": "HVlRnX1XXN2r"
      },
      "source": [
        ""
      ],
      "execution_count": 17,
      "outputs": []
    },
    {
      "cell_type": "code",
      "metadata": {
        "scrolled": true,
        "id": "f8ziaiv1XN2r",
        "colab": {
          "base_uri": "https://localhost:8080/",
          "height": 231
        },
        "outputId": "79044387-36e7-4728-e903-ea3d69a09c9f"
      },
      "source": [
        "X_ = pd.DataFrame(x)\n",
        "for i in range(len(X_)):\n",
        "    Y_axis = np.array(X_.iloc[i,:], dtype = np.float32)\n",
        "    plt.plot(Y_axis)\n",
        "plt.show()"
      ],
      "execution_count": 18,
      "outputs": [
        {
          "output_type": "error",
          "ename": "NameError",
          "evalue": "ignored",
          "traceback": [
            "\u001b[0;31m---------------------------------------------------------------------------\u001b[0m",
            "\u001b[0;31mNameError\u001b[0m                                 Traceback (most recent call last)",
            "\u001b[0;32m<ipython-input-18-c048b71ae732>\u001b[0m in \u001b[0;36m<module>\u001b[0;34m()\u001b[0m\n\u001b[0;32m----> 1\u001b[0;31m \u001b[0mX_\u001b[0m \u001b[0;34m=\u001b[0m \u001b[0mpd\u001b[0m\u001b[0;34m.\u001b[0m\u001b[0mDataFrame\u001b[0m\u001b[0;34m(\u001b[0m\u001b[0mx\u001b[0m\u001b[0;34m)\u001b[0m\u001b[0;34m\u001b[0m\u001b[0;34m\u001b[0m\u001b[0m\n\u001b[0m\u001b[1;32m      2\u001b[0m \u001b[0;32mfor\u001b[0m \u001b[0mi\u001b[0m \u001b[0;32min\u001b[0m \u001b[0mrange\u001b[0m\u001b[0;34m(\u001b[0m\u001b[0mlen\u001b[0m\u001b[0;34m(\u001b[0m\u001b[0mX_\u001b[0m\u001b[0;34m)\u001b[0m\u001b[0;34m)\u001b[0m\u001b[0;34m:\u001b[0m\u001b[0;34m\u001b[0m\u001b[0;34m\u001b[0m\u001b[0m\n\u001b[1;32m      3\u001b[0m     \u001b[0mY_axis\u001b[0m \u001b[0;34m=\u001b[0m \u001b[0mnp\u001b[0m\u001b[0;34m.\u001b[0m\u001b[0marray\u001b[0m\u001b[0;34m(\u001b[0m\u001b[0mX_\u001b[0m\u001b[0;34m.\u001b[0m\u001b[0miloc\u001b[0m\u001b[0;34m[\u001b[0m\u001b[0mi\u001b[0m\u001b[0;34m,\u001b[0m\u001b[0;34m:\u001b[0m\u001b[0;34m]\u001b[0m\u001b[0;34m,\u001b[0m \u001b[0mdtype\u001b[0m \u001b[0;34m=\u001b[0m \u001b[0mnp\u001b[0m\u001b[0;34m.\u001b[0m\u001b[0mfloat32\u001b[0m\u001b[0;34m)\u001b[0m\u001b[0;34m\u001b[0m\u001b[0;34m\u001b[0m\u001b[0m\n\u001b[1;32m      4\u001b[0m     \u001b[0mplt\u001b[0m\u001b[0;34m.\u001b[0m\u001b[0mplot\u001b[0m\u001b[0;34m(\u001b[0m\u001b[0mY_axis\u001b[0m\u001b[0;34m)\u001b[0m\u001b[0;34m\u001b[0m\u001b[0;34m\u001b[0m\u001b[0m\n\u001b[1;32m      5\u001b[0m \u001b[0mplt\u001b[0m\u001b[0;34m.\u001b[0m\u001b[0mshow\u001b[0m\u001b[0;34m(\u001b[0m\u001b[0;34m)\u001b[0m\u001b[0;34m\u001b[0m\u001b[0;34m\u001b[0m\u001b[0m\n",
            "\u001b[0;31mNameError\u001b[0m: name 'x' is not defined"
          ]
        }
      ]
    },
    {
      "cell_type": "markdown",
      "metadata": {
        "id": "RGYbChVAXN2r"
      },
      "source": [
        "# NNLS"
      ]
    },
    {
      "cell_type": "code",
      "metadata": {
        "id": "DZa4aTaKXN2s"
      },
      "source": [
        "from scipy.optimize import nnls"
      ],
      "execution_count": null,
      "outputs": []
    },
    {
      "cell_type": "code",
      "metadata": {
        "id": "fa0asBqGmyDJ"
      },
      "source": [
        "I_arr1 = list()\r\n",
        "E_arr1 = list()\r\n",
        "E1 = np.diag(np.ones(k))\r\n",
        "\r\n",
        "for r in range(m):\r\n",
        "    I1 = np.diag(np.ones(k), k = -shift[r])\r\n",
        "    I_arr1.append(I1)\r\n",
        "    \r\n",
        "for r in range(m):\r\n",
        "    E_arr1.append(E1)\r\n",
        "\r\n",
        "A1 = [I_arr1, E_arr1]"
      ],
      "execution_count": null,
      "outputs": []
    },
    {
      "cell_type": "code",
      "metadata": {
        "id": "4yVCzY-qoIZh"
      },
      "source": [
        "X[0]"
      ],
      "execution_count": null,
      "outputs": []
    },
    {
      "cell_type": "code",
      "metadata": {
        "id": "DPlag5RYXN2s"
      },
      "source": [
        "R = list()\r\n",
        "R.append(X.iloc[0])\r\n",
        "R.append(X.iloc[1])\r\n",
        "R.append(X.iloc[2])\r\n",
        "R = np.array(R)\r\n",
        "R.shape"
      ],
      "execution_count": null,
      "outputs": []
    },
    {
      "cell_type": "code",
      "metadata": {
        "id": "GANLir1AcTT4"
      },
      "source": [
        "A1 = np.array(A)\r\n",
        "R = np.array(R)"
      ],
      "execution_count": null,
      "outputs": []
    },
    {
      "cell_type": "code",
      "metadata": {
        "id": "aCyAAV0vqNcz"
      },
      "source": [
        "R.shape"
      ],
      "execution_count": null,
      "outputs": []
    },
    {
      "cell_type": "code",
      "metadata": {
        "id": "vb1_RrpHXN2s"
      },
      "source": [
        "X = nnls(A1, R)"
      ],
      "execution_count": null,
      "outputs": []
    },
    {
      "cell_type": "code",
      "metadata": {
        "id": "4UBioV6CDkQf"
      },
      "source": [
        ""
      ],
      "execution_count": null,
      "outputs": []
    },
    {
      "cell_type": "code",
      "metadata": {
        "id": "y_RQF3RBXN2t"
      },
      "source": [
        "S"
      ],
      "execution_count": null,
      "outputs": []
    },
    {
      "cell_type": "code",
      "metadata": {
        "id": "y6N5yu-BXN2t"
      },
      "source": [
        ""
      ],
      "execution_count": null,
      "outputs": []
    },
    {
      "cell_type": "code",
      "metadata": {
        "id": "YT2x8R16XN2u"
      },
      "source": [
        ""
      ],
      "execution_count": null,
      "outputs": []
    }
  ]
}